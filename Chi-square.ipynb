{
 "cells": [
  {
   "cell_type": "markdown",
   "metadata": {},
   "source": [
    "# Intial commands"
   ]
  },
  {
   "cell_type": "code",
   "execution_count": 1,
   "metadata": {
    "collapsed": false
   },
   "outputs": [],
   "source": [
    "import pandas as pd\n",
    "import numpy as np\n",
    "import matplotlib.pyplot as plt\n",
    "import seaborn as sns\n",
    "import scipy\n",
    "import redcaputils\n",
    "import statsmodels.formula.api as smf\n",
    "%matplotlib inline\n",
    "pd.set_option('display.max_columns', None)"
   ]
  },
  {
   "cell_type": "code",
   "execution_count": 2,
   "metadata": {
    "collapsed": false
   },
   "outputs": [],
   "source": [
    "patients = pd.read_csv(\"patients.csv\")\n",
    "controls = pd.read_csv(\"controls.csv\")"
   ]
  },
  {
   "cell_type": "code",
   "execution_count": 3,
   "metadata": {
    "collapsed": false,
    "scrolled": true
   },
   "outputs": [],
   "source": [
    "df = pd.concat([patients, controls])"
   ]
  },
  {
   "cell_type": "markdown",
   "metadata": {},
   "source": [
    "# Descriptional statistics"
   ]
  },
  {
   "cell_type": "code",
   "execution_count": 4,
   "metadata": {
    "collapsed": false
   },
   "outputs": [],
   "source": [
    "cols_rename = {\n",
    "    'redcap_event_name': 'PATIENT',\n",
    "    'bdi_v2': 'bdi',\n",
    "    'stai_i_v2': 'stai_i',\n",
    "    'stai_ii_v2': 'stai_ii',\n",
    "    'fss_v2': 'fss',\n",
    "    'ess_v2': 'ess',\n",
    "    'vas_now_v2': 'vas_now',\n",
    "    'vas_4wk_aver_v2': 'vas_4wk_aver',\n",
    "    'scc_v2': 'scc',\n",
    "    'eq5d3l_v2': 'eq5d3l',\n",
    "    'eq5d3l_vas_v2': 'eq5d3l_vas',\n",
    "    'bfi_e_v2': 'bfi_e',\n",
    "    'bfi_p_v2': 'bfi_p',\n",
    "    'bfi_s_v2': 'bfi_s',\n",
    "    'bfi_n_v2': 'bfi_n',\n",
    "    'bfi_o_v2': 'bfi_o',\n",
    "    'sf_12_v2': 'sf_12',\n",
    "    'f_phq_suma': 'f_phq',\n",
    "}\n",
    "values_changes = { 'F': 0, 'M': 1, 'enrollment_arm_1': 1, 'enrollment_arm_2': 0 }\n",
    "df = redcaputils.convert_dataframe( df, columns_conversion_dict=cols_rename, values_conversion_dict=values_changes )\n",
    "#df.head()"
   ]
  },
  {
   "cell_type": "markdown",
   "metadata": {},
   "source": [
    "## Chi-square test"
   ]
  },
  {
   "cell_type": "code",
   "execution_count": 44,
   "metadata": {
    "collapsed": false
   },
   "outputs": [
    {
     "name": "stdout",
     "output_type": "stream",
     "text": [
      "0.434915861161\n"
     ]
    }
   ],
   "source": [
    "obs = [\n",
    "    [ len(df.loc[(df.PATIENT == 0) & (df.pohlavi == 0)]), len(df.loc[(df.PATIENT == 0) & (df.pohlavi == 1)])],\n",
    "    [ len(df.loc[(df.PATIENT == 1) & (df.pohlavi == 0)]), len(df.loc[(df.PATIENT == 1) & (df.pohlavi == 1)])]\n",
    "]\n",
    "chi2, p, dof, expected = scipy.stats.chi2_contingency(obs)\n",
    "print p"
   ]
  },
  {
   "cell_type": "code",
   "execution_count": 45,
   "metadata": {
    "collapsed": false
   },
   "outputs": [
    {
     "name": "stdout",
     "output_type": "stream",
     "text": [
      "0.000213556159443\n"
     ]
    }
   ],
   "source": [
    "obs = [\n",
    "    [ len(df.loc[(df.PATIENT == 0) & (df.rls_dg == 0)]), len(df.loc[(df.PATIENT == 0) & (df.rls_dg == 1)])],\n",
    "    [ len(df.loc[(df.PATIENT == 1) & (df.rls_dg == 0)]), len(df.loc[(df.PATIENT == 1) & (df.rls_dg == 1)])]\n",
    "]\n",
    "chi2, p, dof, expected = scipy.stats.chi2_contingency(obs)\n",
    "print p"
   ]
  }
 ],
 "metadata": {
  "kernelspec": {
   "display_name": "Python 2",
   "language": "python",
   "name": "python2"
  },
  "language_info": {
   "codemirror_mode": {
    "name": "ipython",
    "version": 2
   },
   "file_extension": ".py",
   "mimetype": "text/x-python",
   "name": "python",
   "nbconvert_exporter": "python",
   "pygments_lexer": "ipython2",
   "version": "2.7.12"
  }
 },
 "nbformat": 4,
 "nbformat_minor": 2
}
