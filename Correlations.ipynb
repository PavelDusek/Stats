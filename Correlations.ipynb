{
 "cells": [
  {
   "cell_type": "code",
   "execution_count": 1,
   "metadata": {
    "collapsed": true
   },
   "outputs": [],
   "source": [
    "import pandas as pd\n",
    "import numpy as np\n",
    "import matplotlib.pyplot as plt\n",
    "import seaborn as sns\n",
    "import scipy\n",
    "import redcaputils\n",
    "import statsmodels.formula.api as smf\n",
    "%matplotlib inline\n",
    "pd.set_option('display.max_columns', None)"
   ]
  },
  {
   "cell_type": "code",
   "execution_count": 2,
   "metadata": {
    "collapsed": false
   },
   "outputs": [],
   "source": [
    "patients = pd.read_csv(\"patients.csv\")\n",
    "controls = pd.read_csv(\"controls.csv\")\n",
    "df = pd.concat([patients, controls])"
   ]
  },
  {
   "cell_type": "markdown",
   "metadata": {},
   "source": [
    "# Correlations with statistical significance"
   ]
  },
  {
   "cell_type": "code",
   "execution_count": 3,
   "metadata": {
    "collapsed": false
   },
   "outputs": [],
   "source": [
    "alpha = 0.05\n",
    "corr_r = {}\n",
    "corr_p = {}\n",
    "corr_b = {} #survives Bonferoni\n",
    "\n",
    "variables = df.columns #or use all\n",
    "variablesNo = len(variables)\n",
    "#not counting correlation of the variable with itself, count only half of correlations (they are symmetrical)\n",
    "Bonferoni = 2 * alpha/float((variablesNo-1)*(variablesNo-1))\n",
    "\n",
    "for variable in variables:\n",
    "    corr_r[variable] = []\n",
    "    corr_p[variable] = []\n",
    "    corr_b[variable] = []\n",
    "    for column in df.columns:\n",
    "        if variable == column:\n",
    "            corr_r[variable].append(1)\n",
    "            corr_p[variable].append(0)\n",
    "            corr_b[variable].append( True )\n",
    "        else:    \n",
    "            corrdf = df[[variable, column]].dropna(how='any')\n",
    "            r, p = scipy.stats.pearsonr(corrdf[variable], corrdf[column])\n",
    "            corr_r[variable].append(r)\n",
    "            corr_p[variable].append(p)\n",
    "            corr_b[variable].append( p < Bonferoni )\n",
    "corr_r = pd.DataFrame(corr_r, index=df.columns)\n",
    "corr_p = pd.DataFrame(corr_p, index=df.columns)\n",
    "corr_b = pd.DataFrame(corr_b, index=df.columns)"
   ]
  },
  {
   "cell_type": "code",
   "execution_count": 4,
   "metadata": {
    "collapsed": false,
    "scrolled": true
   },
   "outputs": [
    {
     "data": {
      "text/html": [
       "<div>\n",
       "<table border=\"1\" class=\"dataframe\">\n",
       "  <thead>\n",
       "    <tr style=\"text-align: right;\">\n",
       "      <th></th>\n",
       "      <th>3rd_ventricle</th>\n",
       "      <th>PATIENT</th>\n",
       "      <th>SN_area</th>\n",
       "      <th>SN_index</th>\n",
       "      <th>age</th>\n",
       "      <th>gender</th>\n",
       "    </tr>\n",
       "  </thead>\n",
       "  <tbody>\n",
       "    <tr>\n",
       "      <th>3rd_ventricle</th>\n",
       "      <td>1.000000</td>\n",
       "      <td>0.031055</td>\n",
       "      <td>0.084081</td>\n",
       "      <td>-0.167351</td>\n",
       "      <td>0.519212</td>\n",
       "      <td>0.229040</td>\n",
       "    </tr>\n",
       "    <tr>\n",
       "      <th>PATIENT</th>\n",
       "      <td>0.031055</td>\n",
       "      <td>1.000000</td>\n",
       "      <td>0.362977</td>\n",
       "      <td>0.210592</td>\n",
       "      <td>0.152647</td>\n",
       "      <td>0.318072</td>\n",
       "    </tr>\n",
       "    <tr>\n",
       "      <th>SN_area</th>\n",
       "      <td>0.084081</td>\n",
       "      <td>0.362977</td>\n",
       "      <td>1.000000</td>\n",
       "      <td>0.450185</td>\n",
       "      <td>0.171549</td>\n",
       "      <td>0.208983</td>\n",
       "    </tr>\n",
       "    <tr>\n",
       "      <th>SN_index</th>\n",
       "      <td>-0.167351</td>\n",
       "      <td>0.210592</td>\n",
       "      <td>0.450185</td>\n",
       "      <td>1.000000</td>\n",
       "      <td>0.072416</td>\n",
       "      <td>-0.046826</td>\n",
       "    </tr>\n",
       "    <tr>\n",
       "      <th>age</th>\n",
       "      <td>0.519212</td>\n",
       "      <td>0.152647</td>\n",
       "      <td>0.171549</td>\n",
       "      <td>0.072416</td>\n",
       "      <td>1.000000</td>\n",
       "      <td>0.081719</td>\n",
       "    </tr>\n",
       "    <tr>\n",
       "      <th>gender</th>\n",
       "      <td>0.229040</td>\n",
       "      <td>0.318072</td>\n",
       "      <td>0.208983</td>\n",
       "      <td>-0.046826</td>\n",
       "      <td>0.081719</td>\n",
       "      <td>1.000000</td>\n",
       "    </tr>\n",
       "  </tbody>\n",
       "</table>\n",
       "</div>"
      ],
      "text/plain": [
       "               3rd_ventricle   PATIENT   SN_area  SN_index       age    gender\n",
       "3rd_ventricle       1.000000  0.031055  0.084081 -0.167351  0.519212  0.229040\n",
       "PATIENT             0.031055  1.000000  0.362977  0.210592  0.152647  0.318072\n",
       "SN_area             0.084081  0.362977  1.000000  0.450185  0.171549  0.208983\n",
       "SN_index           -0.167351  0.210592  0.450185  1.000000  0.072416 -0.046826\n",
       "age                 0.519212  0.152647  0.171549  0.072416  1.000000  0.081719\n",
       "gender              0.229040  0.318072  0.208983 -0.046826  0.081719  1.000000"
      ]
     },
     "execution_count": 4,
     "metadata": {},
     "output_type": "execute_result"
    }
   ],
   "source": [
    "corr_r.sort_index()"
   ]
  },
  {
   "cell_type": "code",
   "execution_count": 5,
   "metadata": {
    "collapsed": false
   },
   "outputs": [
    {
     "data": {
      "text/html": [
       "<div>\n",
       "<table border=\"1\" class=\"dataframe\">\n",
       "  <thead>\n",
       "    <tr style=\"text-align: right;\">\n",
       "      <th></th>\n",
       "      <th>3rd_ventricle</th>\n",
       "      <th>PATIENT</th>\n",
       "      <th>SN_area</th>\n",
       "      <th>SN_index</th>\n",
       "      <th>age</th>\n",
       "      <th>gender</th>\n",
       "    </tr>\n",
       "  </thead>\n",
       "  <tbody>\n",
       "    <tr>\n",
       "      <th>3rd_ventricle</th>\n",
       "      <td>0.000000e+00</td>\n",
       "      <td>0.763904</td>\n",
       "      <td>0.415375</td>\n",
       "      <td>0.103159</td>\n",
       "      <td>5.960148e-08</td>\n",
       "      <td>0.024790</td>\n",
       "    </tr>\n",
       "    <tr>\n",
       "      <th>PATIENT</th>\n",
       "      <td>7.639037e-01</td>\n",
       "      <td>0.000000</td>\n",
       "      <td>0.000258</td>\n",
       "      <td>0.038407</td>\n",
       "      <td>1.355238e-01</td>\n",
       "      <td>0.001499</td>\n",
       "    </tr>\n",
       "    <tr>\n",
       "      <th>SN_area</th>\n",
       "      <td>4.153752e-01</td>\n",
       "      <td>0.000258</td>\n",
       "      <td>0.000000</td>\n",
       "      <td>0.000004</td>\n",
       "      <td>9.292982e-02</td>\n",
       "      <td>0.039946</td>\n",
       "    </tr>\n",
       "    <tr>\n",
       "      <th>SN_index</th>\n",
       "      <td>1.031586e-01</td>\n",
       "      <td>0.038407</td>\n",
       "      <td>0.000004</td>\n",
       "      <td>0.000000</td>\n",
       "      <td>4.808742e-01</td>\n",
       "      <td>0.648779</td>\n",
       "    </tr>\n",
       "    <tr>\n",
       "      <th>age</th>\n",
       "      <td>5.960148e-08</td>\n",
       "      <td>0.135524</td>\n",
       "      <td>0.092930</td>\n",
       "      <td>0.480874</td>\n",
       "      <td>0.000000e+00</td>\n",
       "      <td>0.426185</td>\n",
       "    </tr>\n",
       "    <tr>\n",
       "      <th>gender</th>\n",
       "      <td>2.478999e-02</td>\n",
       "      <td>0.001499</td>\n",
       "      <td>0.039946</td>\n",
       "      <td>0.648779</td>\n",
       "      <td>4.261850e-01</td>\n",
       "      <td>0.000000</td>\n",
       "    </tr>\n",
       "  </tbody>\n",
       "</table>\n",
       "</div>"
      ],
      "text/plain": [
       "               3rd_ventricle   PATIENT   SN_area  SN_index           age  \\\n",
       "3rd_ventricle   0.000000e+00  0.763904  0.415375  0.103159  5.960148e-08   \n",
       "PATIENT         7.639037e-01  0.000000  0.000258  0.038407  1.355238e-01   \n",
       "SN_area         4.153752e-01  0.000258  0.000000  0.000004  9.292982e-02   \n",
       "SN_index        1.031586e-01  0.038407  0.000004  0.000000  4.808742e-01   \n",
       "age             5.960148e-08  0.135524  0.092930  0.480874  0.000000e+00   \n",
       "gender          2.478999e-02  0.001499  0.039946  0.648779  4.261850e-01   \n",
       "\n",
       "                 gender  \n",
       "3rd_ventricle  0.024790  \n",
       "PATIENT        0.001499  \n",
       "SN_area        0.039946  \n",
       "SN_index       0.648779  \n",
       "age            0.426185  \n",
       "gender         0.000000  "
      ]
     },
     "execution_count": 5,
     "metadata": {},
     "output_type": "execute_result"
    }
   ],
   "source": [
    "corr_p.sort_index()"
   ]
  },
  {
   "cell_type": "code",
   "execution_count": 6,
   "metadata": {
    "collapsed": false
   },
   "outputs": [
    {
     "data": {
      "text/plain": [
       "<matplotlib.axes._subplots.AxesSubplot at 0x7ff7d3b94c10>"
      ]
     },
     "execution_count": 6,
     "metadata": {},
     "output_type": "execute_result"
    },
    {
     "data": {
      "image/png": "[encoded data removed]",
      "text/plain": [
       "<matplotlib.figure.Figure at 0x7ff800125d10>"
      ]
     },
     "metadata": {},
     "output_type": "display_data"
    }
   ],
   "source": [
    "sns.heatmap(corr_r.sort_index())"
   ]
  },
  {
   "cell_type": "code",
   "execution_count": 7,
   "metadata": {
    "collapsed": false
   },
   "outputs": [
    {
     "data": {
      "text/html": [
       "<div>\n",
       "<table border=\"1\" class=\"dataframe\">\n",
       "  <thead>\n",
       "    <tr style=\"text-align: right;\">\n",
       "      <th></th>\n",
       "      <th>3rd_ventricle</th>\n",
       "      <th>PATIENT</th>\n",
       "      <th>SN_area</th>\n",
       "      <th>SN_index</th>\n",
       "      <th>age</th>\n",
       "      <th>gender</th>\n",
       "    </tr>\n",
       "  </thead>\n",
       "  <tbody>\n",
       "    <tr>\n",
       "      <th>3rd_ventricle</th>\n",
       "      <td>True</td>\n",
       "      <td>False</td>\n",
       "      <td>False</td>\n",
       "      <td>False</td>\n",
       "      <td>True</td>\n",
       "      <td>False</td>\n",
       "    </tr>\n",
       "    <tr>\n",
       "      <th>PATIENT</th>\n",
       "      <td>False</td>\n",
       "      <td>True</td>\n",
       "      <td>True</td>\n",
       "      <td>False</td>\n",
       "      <td>False</td>\n",
       "      <td>True</td>\n",
       "    </tr>\n",
       "    <tr>\n",
       "      <th>SN_area</th>\n",
       "      <td>False</td>\n",
       "      <td>True</td>\n",
       "      <td>True</td>\n",
       "      <td>True</td>\n",
       "      <td>False</td>\n",
       "      <td>False</td>\n",
       "    </tr>\n",
       "    <tr>\n",
       "      <th>SN_index</th>\n",
       "      <td>False</td>\n",
       "      <td>False</td>\n",
       "      <td>True</td>\n",
       "      <td>True</td>\n",
       "      <td>False</td>\n",
       "      <td>False</td>\n",
       "    </tr>\n",
       "    <tr>\n",
       "      <th>age</th>\n",
       "      <td>True</td>\n",
       "      <td>False</td>\n",
       "      <td>False</td>\n",
       "      <td>False</td>\n",
       "      <td>True</td>\n",
       "      <td>False</td>\n",
       "    </tr>\n",
       "    <tr>\n",
       "      <th>gender</th>\n",
       "      <td>False</td>\n",
       "      <td>True</td>\n",
       "      <td>False</td>\n",
       "      <td>False</td>\n",
       "      <td>False</td>\n",
       "      <td>True</td>\n",
       "    </tr>\n",
       "  </tbody>\n",
       "</table>\n",
       "</div>"
      ],
      "text/plain": [
       "              3rd_ventricle PATIENT SN_area SN_index    age gender\n",
       "3rd_ventricle          True   False   False    False   True  False\n",
       "PATIENT               False    True    True    False  False   True\n",
       "SN_area               False    True    True     True  False  False\n",
       "SN_index              False   False    True     True  False  False\n",
       "age                    True   False   False    False   True  False\n",
       "gender                False    True   False    False  False   True"
      ]
     },
     "execution_count": 7,
     "metadata": {},
     "output_type": "execute_result"
    }
   ],
   "source": [
    "corr_b.sort_index()"
   ]
  },
  {
   "cell_type": "code",
   "execution_count": 8,
   "metadata": {
    "collapsed": false
   },
   "outputs": [
    {
     "data": {
      "text/plain": [
       "<matplotlib.axes._subplots.AxesSubplot at 0x7ff7d3b3cf90>"
      ]
     },
     "execution_count": 8,
     "metadata": {},
     "output_type": "execute_result"
    },
    {
     "data": {
      "image/png": "[encoded data removed]",
      "text/plain": [
       "<matplotlib.figure.Figure at 0x7ff7d3a23410>"
      ]
     },
     "metadata": {},
     "output_type": "display_data"
    }
   ],
   "source": [
    "sns.heatmap(corr_b.sort_index())"
   ]
  }
 ],
 "metadata": {
  "kernelspec": {
   "display_name": "Python 2",
   "language": "python",
   "name": "python2"
  },
  "language_info": {
   "codemirror_mode": {
    "name": "ipython",
    "version": 2
   },
   "file_extension": ".py",
   "mimetype": "text/x-python",
   "name": "python",
   "nbconvert_exporter": "python",
   "pygments_lexer": "ipython2",
   "version": "2.7.12"
  }
 },
 "nbformat": 4,
 "nbformat_minor": 2
}
