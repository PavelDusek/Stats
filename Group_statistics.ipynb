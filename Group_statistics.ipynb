{
 "cells": [
  {
   "cell_type": "markdown",
   "metadata": {},
   "source": [
    "# Intial commands"
   ]
  },
  {
   "cell_type": "code",
   "execution_count": 1,
   "metadata": {
    "collapsed": false
   },
   "outputs": [],
   "source": [
    "import pandas as pd\n",
    "import numpy as np\n",
    "import matplotlib.pyplot as plt\n",
    "import seaborn as sns\n",
    "import scipy\n",
    "import pavelstatsutils\n",
    "%matplotlib inline"
   ]
  },
  {
   "cell_type": "code",
   "execution_count": 2,
   "metadata": {
    "collapsed": true
   },
   "outputs": [],
   "source": [
    "patients = pd.read_csv(\"patients.csv\")\n",
    "controls = pd.read_csv(\"controls.csv\")"
   ]
  },
  {
   "cell_type": "code",
   "execution_count": 3,
   "metadata": {
    "collapsed": false
   },
   "outputs": [
    {
     "data": {
      "text/html": [
       "<div>\n",
       "<table border=\"1\" class=\"dataframe\">\n",
       "  <thead>\n",
       "    <tr style=\"text-align: right;\">\n",
       "      <th></th>\n",
       "      <th>PATIENT</th>\n",
       "      <th>age</th>\n",
       "      <th>gender</th>\n",
       "      <th>SN_area</th>\n",
       "      <th>SN_index</th>\n",
       "      <th>3rd_ventricle</th>\n",
       "    </tr>\n",
       "  </thead>\n",
       "  <tbody>\n",
       "    <tr>\n",
       "      <th>0</th>\n",
       "      <td>1</td>\n",
       "      <td>64</td>\n",
       "      <td>1</td>\n",
       "      <td>0.11</td>\n",
       "      <td>25.68</td>\n",
       "      <td>7.6</td>\n",
       "    </tr>\n",
       "    <tr>\n",
       "      <th>1</th>\n",
       "      <td>1</td>\n",
       "      <td>74</td>\n",
       "      <td>1</td>\n",
       "      <td>0.09</td>\n",
       "      <td>32.65</td>\n",
       "      <td>5.7</td>\n",
       "    </tr>\n",
       "    <tr>\n",
       "      <th>2</th>\n",
       "      <td>1</td>\n",
       "      <td>66</td>\n",
       "      <td>1</td>\n",
       "      <td>0.21</td>\n",
       "      <td>33.91</td>\n",
       "      <td>6.4</td>\n",
       "    </tr>\n",
       "    <tr>\n",
       "      <th>3</th>\n",
       "      <td>1</td>\n",
       "      <td>73</td>\n",
       "      <td>1</td>\n",
       "      <td>0.32</td>\n",
       "      <td>29.05</td>\n",
       "      <td>6.8</td>\n",
       "    </tr>\n",
       "    <tr>\n",
       "      <th>4</th>\n",
       "      <td>1</td>\n",
       "      <td>69</td>\n",
       "      <td>1</td>\n",
       "      <td>0.05</td>\n",
       "      <td>25.32</td>\n",
       "      <td>4.2</td>\n",
       "    </tr>\n",
       "  </tbody>\n",
       "</table>\n",
       "</div>"
      ],
      "text/plain": [
       "   PATIENT  age  gender  SN_area  SN_index  3rd_ventricle\n",
       "0        1   64       1     0.11     25.68            7.6\n",
       "1        1   74       1     0.09     32.65            5.7\n",
       "2        1   66       1     0.21     33.91            6.4\n",
       "3        1   73       1     0.32     29.05            6.8\n",
       "4        1   69       1     0.05     25.32            4.2"
      ]
     },
     "execution_count": 3,
     "metadata": {},
     "output_type": "execute_result"
    }
   ],
   "source": [
    "df = pd.concat([patients, controls])\n",
    "df.head()"
   ]
  },
  {
   "cell_type": "markdown",
   "metadata": {},
   "source": [
    "# Descriptional statistics"
   ]
  },
  {
   "cell_type": "markdown",
   "metadata": {},
   "source": [
    "## Whole sample"
   ]
  },
  {
   "cell_type": "code",
   "execution_count": 4,
   "metadata": {
    "collapsed": false
   },
   "outputs": [
    {
     "data": {
      "text/html": [
       "<div>\n",
       "<table border=\"1\" class=\"dataframe\">\n",
       "  <thead>\n",
       "    <tr style=\"text-align: right;\">\n",
       "      <th></th>\n",
       "      <th>PATIENT</th>\n",
       "      <th>age</th>\n",
       "      <th>gender</th>\n",
       "      <th>SN_area</th>\n",
       "      <th>SN_index</th>\n",
       "      <th>3rd_ventricle</th>\n",
       "    </tr>\n",
       "  </thead>\n",
       "  <tbody>\n",
       "    <tr>\n",
       "      <th>count</th>\n",
       "      <td>97.000000</td>\n",
       "      <td>97.000000</td>\n",
       "      <td>97.000000</td>\n",
       "      <td>97.000000</td>\n",
       "      <td>97.000000</td>\n",
       "      <td>96.000000</td>\n",
       "    </tr>\n",
       "    <tr>\n",
       "      <th>mean</th>\n",
       "      <td>0.505155</td>\n",
       "      <td>64.350515</td>\n",
       "      <td>0.845361</td>\n",
       "      <td>0.108247</td>\n",
       "      <td>23.947010</td>\n",
       "      <td>6.752083</td>\n",
       "    </tr>\n",
       "    <tr>\n",
       "      <th>std</th>\n",
       "      <td>0.502571</td>\n",
       "      <td>9.209417</td>\n",
       "      <td>0.363439</td>\n",
       "      <td>0.074568</td>\n",
       "      <td>8.602655</td>\n",
       "      <td>2.427777</td>\n",
       "    </tr>\n",
       "    <tr>\n",
       "      <th>min</th>\n",
       "      <td>0.000000</td>\n",
       "      <td>38.000000</td>\n",
       "      <td>0.000000</td>\n",
       "      <td>0.020000</td>\n",
       "      <td>7.380000</td>\n",
       "      <td>1.700000</td>\n",
       "    </tr>\n",
       "    <tr>\n",
       "      <th>25%</th>\n",
       "      <td>0.000000</td>\n",
       "      <td>59.000000</td>\n",
       "      <td>1.000000</td>\n",
       "      <td>0.060000</td>\n",
       "      <td>17.880000</td>\n",
       "      <td>4.775000</td>\n",
       "    </tr>\n",
       "    <tr>\n",
       "      <th>50%</th>\n",
       "      <td>1.000000</td>\n",
       "      <td>65.000000</td>\n",
       "      <td>1.000000</td>\n",
       "      <td>0.090000</td>\n",
       "      <td>22.460000</td>\n",
       "      <td>6.750000</td>\n",
       "    </tr>\n",
       "    <tr>\n",
       "      <th>75%</th>\n",
       "      <td>1.000000</td>\n",
       "      <td>70.000000</td>\n",
       "      <td>1.000000</td>\n",
       "      <td>0.120000</td>\n",
       "      <td>29.500000</td>\n",
       "      <td>8.500000</td>\n",
       "    </tr>\n",
       "    <tr>\n",
       "      <th>max</th>\n",
       "      <td>1.000000</td>\n",
       "      <td>85.000000</td>\n",
       "      <td>1.000000</td>\n",
       "      <td>0.360000</td>\n",
       "      <td>50.500000</td>\n",
       "      <td>11.800000</td>\n",
       "    </tr>\n",
       "  </tbody>\n",
       "</table>\n",
       "</div>"
      ],
      "text/plain": [
       "         PATIENT        age     gender    SN_area   SN_index  3rd_ventricle\n",
       "count  97.000000  97.000000  97.000000  97.000000  97.000000      96.000000\n",
       "mean    0.505155  64.350515   0.845361   0.108247  23.947010       6.752083\n",
       "std     0.502571   9.209417   0.363439   0.074568   8.602655       2.427777\n",
       "min     0.000000  38.000000   0.000000   0.020000   7.380000       1.700000\n",
       "25%     0.000000  59.000000   1.000000   0.060000  17.880000       4.775000\n",
       "50%     1.000000  65.000000   1.000000   0.090000  22.460000       6.750000\n",
       "75%     1.000000  70.000000   1.000000   0.120000  29.500000       8.500000\n",
       "max     1.000000  85.000000   1.000000   0.360000  50.500000      11.800000"
      ]
     },
     "execution_count": 4,
     "metadata": {},
     "output_type": "execute_result"
    }
   ],
   "source": [
    "df.describe()"
   ]
  },
  {
   "cell_type": "markdown",
   "metadata": {},
   "source": [
    "## Patients"
   ]
  },
  {
   "cell_type": "code",
   "execution_count": 5,
   "metadata": {
    "collapsed": false
   },
   "outputs": [
    {
     "data": {
      "text/html": [
       "<div>\n",
       "<table border=\"1\" class=\"dataframe\">\n",
       "  <thead>\n",
       "    <tr style=\"text-align: right;\">\n",
       "      <th></th>\n",
       "      <th>PATIENT</th>\n",
       "      <th>age</th>\n",
       "      <th>gender</th>\n",
       "      <th>SN_area</th>\n",
       "      <th>SN_index</th>\n",
       "      <th>3rd_ventricle</th>\n",
       "    </tr>\n",
       "  </thead>\n",
       "  <tbody>\n",
       "    <tr>\n",
       "      <th>count</th>\n",
       "      <td>49.0</td>\n",
       "      <td>49.000000</td>\n",
       "      <td>49.000000</td>\n",
       "      <td>49.000000</td>\n",
       "      <td>49.000000</td>\n",
       "      <td>48.000000</td>\n",
       "    </tr>\n",
       "    <tr>\n",
       "      <th>mean</th>\n",
       "      <td>1.0</td>\n",
       "      <td>65.734694</td>\n",
       "      <td>0.959184</td>\n",
       "      <td>0.134898</td>\n",
       "      <td>25.730816</td>\n",
       "      <td>6.827083</td>\n",
       "    </tr>\n",
       "    <tr>\n",
       "      <th>std</th>\n",
       "      <td>0.0</td>\n",
       "      <td>8.390907</td>\n",
       "      <td>0.199915</td>\n",
       "      <td>0.088556</td>\n",
       "      <td>9.469470</td>\n",
       "      <td>2.374397</td>\n",
       "    </tr>\n",
       "    <tr>\n",
       "      <th>min</th>\n",
       "      <td>1.0</td>\n",
       "      <td>38.000000</td>\n",
       "      <td>0.000000</td>\n",
       "      <td>0.030000</td>\n",
       "      <td>7.380000</td>\n",
       "      <td>2.400000</td>\n",
       "    </tr>\n",
       "    <tr>\n",
       "      <th>25%</th>\n",
       "      <td>1.0</td>\n",
       "      <td>63.000000</td>\n",
       "      <td>1.000000</td>\n",
       "      <td>0.080000</td>\n",
       "      <td>18.650000</td>\n",
       "      <td>5.025000</td>\n",
       "    </tr>\n",
       "    <tr>\n",
       "      <th>50%</th>\n",
       "      <td>1.0</td>\n",
       "      <td>66.000000</td>\n",
       "      <td>1.000000</td>\n",
       "      <td>0.110000</td>\n",
       "      <td>25.320000</td>\n",
       "      <td>6.600000</td>\n",
       "    </tr>\n",
       "    <tr>\n",
       "      <th>75%</th>\n",
       "      <td>1.0</td>\n",
       "      <td>70.000000</td>\n",
       "      <td>1.000000</td>\n",
       "      <td>0.200000</td>\n",
       "      <td>32.650000</td>\n",
       "      <td>8.875000</td>\n",
       "    </tr>\n",
       "    <tr>\n",
       "      <th>max</th>\n",
       "      <td>1.0</td>\n",
       "      <td>83.000000</td>\n",
       "      <td>1.000000</td>\n",
       "      <td>0.360000</td>\n",
       "      <td>50.500000</td>\n",
       "      <td>11.500000</td>\n",
       "    </tr>\n",
       "  </tbody>\n",
       "</table>\n",
       "</div>"
      ],
      "text/plain": [
       "       PATIENT        age     gender    SN_area   SN_index  3rd_ventricle\n",
       "count     49.0  49.000000  49.000000  49.000000  49.000000      48.000000\n",
       "mean       1.0  65.734694   0.959184   0.134898  25.730816       6.827083\n",
       "std        0.0   8.390907   0.199915   0.088556   9.469470       2.374397\n",
       "min        1.0  38.000000   0.000000   0.030000   7.380000       2.400000\n",
       "25%        1.0  63.000000   1.000000   0.080000  18.650000       5.025000\n",
       "50%        1.0  66.000000   1.000000   0.110000  25.320000       6.600000\n",
       "75%        1.0  70.000000   1.000000   0.200000  32.650000       8.875000\n",
       "max        1.0  83.000000   1.000000   0.360000  50.500000      11.500000"
      ]
     },
     "execution_count": 5,
     "metadata": {},
     "output_type": "execute_result"
    }
   ],
   "source": [
    "df.loc[df['PATIENT'] == 1].describe()"
   ]
  },
  {
   "cell_type": "markdown",
   "metadata": {},
   "source": [
    "## Controls"
   ]
  },
  {
   "cell_type": "code",
   "execution_count": 6,
   "metadata": {
    "collapsed": false
   },
   "outputs": [
    {
     "data": {
      "text/html": [
       "<div>\n",
       "<table border=\"1\" class=\"dataframe\">\n",
       "  <thead>\n",
       "    <tr style=\"text-align: right;\">\n",
       "      <th></th>\n",
       "      <th>PATIENT</th>\n",
       "      <th>age</th>\n",
       "      <th>gender</th>\n",
       "      <th>SN_area</th>\n",
       "      <th>SN_index</th>\n",
       "      <th>3rd_ventricle</th>\n",
       "    </tr>\n",
       "  </thead>\n",
       "  <tbody>\n",
       "    <tr>\n",
       "      <th>count</th>\n",
       "      <td>48.0</td>\n",
       "      <td>48.000000</td>\n",
       "      <td>48.000000</td>\n",
       "      <td>48.000000</td>\n",
       "      <td>48.000000</td>\n",
       "      <td>48.000000</td>\n",
       "    </tr>\n",
       "    <tr>\n",
       "      <th>mean</th>\n",
       "      <td>0.0</td>\n",
       "      <td>62.937500</td>\n",
       "      <td>0.729167</td>\n",
       "      <td>0.081042</td>\n",
       "      <td>22.126042</td>\n",
       "      <td>6.677083</td>\n",
       "    </tr>\n",
       "    <tr>\n",
       "      <th>std</th>\n",
       "      <td>0.0</td>\n",
       "      <td>9.863766</td>\n",
       "      <td>0.449093</td>\n",
       "      <td>0.043036</td>\n",
       "      <td>7.271720</td>\n",
       "      <td>2.502870</td>\n",
       "    </tr>\n",
       "    <tr>\n",
       "      <th>min</th>\n",
       "      <td>0.0</td>\n",
       "      <td>39.000000</td>\n",
       "      <td>0.000000</td>\n",
       "      <td>0.020000</td>\n",
       "      <td>10.680000</td>\n",
       "      <td>1.700000</td>\n",
       "    </tr>\n",
       "    <tr>\n",
       "      <th>25%</th>\n",
       "      <td>0.0</td>\n",
       "      <td>55.750000</td>\n",
       "      <td>0.000000</td>\n",
       "      <td>0.050000</td>\n",
       "      <td>16.557500</td>\n",
       "      <td>4.500000</td>\n",
       "    </tr>\n",
       "    <tr>\n",
       "      <th>50%</th>\n",
       "      <td>0.0</td>\n",
       "      <td>63.500000</td>\n",
       "      <td>1.000000</td>\n",
       "      <td>0.080000</td>\n",
       "      <td>21.060000</td>\n",
       "      <td>7.300000</td>\n",
       "    </tr>\n",
       "    <tr>\n",
       "      <th>75%</th>\n",
       "      <td>0.0</td>\n",
       "      <td>69.000000</td>\n",
       "      <td>1.000000</td>\n",
       "      <td>0.100000</td>\n",
       "      <td>25.560000</td>\n",
       "      <td>8.500000</td>\n",
       "    </tr>\n",
       "    <tr>\n",
       "      <th>max</th>\n",
       "      <td>0.0</td>\n",
       "      <td>85.000000</td>\n",
       "      <td>1.000000</td>\n",
       "      <td>0.220000</td>\n",
       "      <td>38.950000</td>\n",
       "      <td>11.800000</td>\n",
       "    </tr>\n",
       "  </tbody>\n",
       "</table>\n",
       "</div>"
      ],
      "text/plain": [
       "       PATIENT        age     gender    SN_area   SN_index  3rd_ventricle\n",
       "count     48.0  48.000000  48.000000  48.000000  48.000000      48.000000\n",
       "mean       0.0  62.937500   0.729167   0.081042  22.126042       6.677083\n",
       "std        0.0   9.863766   0.449093   0.043036   7.271720       2.502870\n",
       "min        0.0  39.000000   0.000000   0.020000  10.680000       1.700000\n",
       "25%        0.0  55.750000   0.000000   0.050000  16.557500       4.500000\n",
       "50%        0.0  63.500000   1.000000   0.080000  21.060000       7.300000\n",
       "75%        0.0  69.000000   1.000000   0.100000  25.560000       8.500000\n",
       "max        0.0  85.000000   1.000000   0.220000  38.950000      11.800000"
      ]
     },
     "execution_count": 6,
     "metadata": {},
     "output_type": "execute_result"
    }
   ],
   "source": [
    "df.loc[df['PATIENT'] == 0].describe()"
   ]
  },
  {
   "cell_type": "markdown",
   "metadata": {},
   "source": [
    "# Plotting data"
   ]
  },
  {
   "cell_type": "code",
   "execution_count": 7,
   "metadata": {
    "collapsed": false,
    "scrolled": true
   },
   "outputs": [
    {
     "data": {
      "text/plain": [
       "<seaborn.axisgrid.PairGrid at 0x7f7cc569df90>"
      ]
     },
     "execution_count": 7,
     "metadata": {},
     "output_type": "execute_result"
    },
    {
     "data": {
      "image/png": "[encoded data removed]",
      "text/plain": [
       "<matplotlib.figure.Figure at 0x7f7cf0456b90>"
      ]
     },
     "metadata": {},
     "output_type": "display_data"
    }
   ],
   "source": [
    "sns.pairplot(df.dropna(how='any'), vars=[x for x in df.columns if x!='PATIENT'], hue=\"PATIENT\", size=2)"
   ]
  },
  {
   "cell_type": "markdown",
   "metadata": {},
   "source": [
    "# Correlations"
   ]
  },
  {
   "cell_type": "markdown",
   "metadata": {},
   "source": [
    "## Whole sample correlation"
   ]
  },
  {
   "cell_type": "code",
   "execution_count": 8,
   "metadata": {
    "collapsed": false
   },
   "outputs": [],
   "source": [
    "corr_r, corr_p, corr_b = pavelstatsutils.corr(df)\n"
   ]
  },
  {
   "cell_type": "code",
   "execution_count": 9,
   "metadata": {
    "collapsed": false
   },
   "outputs": [
    {
     "data": {
      "text/html": [
       "<div>\n",
       "<table border=\"1\" class=\"dataframe\">\n",
       "  <thead>\n",
       "    <tr style=\"text-align: right;\">\n",
       "      <th></th>\n",
       "      <th>3rd_ventricle</th>\n",
       "      <th>PATIENT</th>\n",
       "      <th>SN_area</th>\n",
       "      <th>SN_index</th>\n",
       "      <th>age</th>\n",
       "      <th>gender</th>\n",
       "    </tr>\n",
       "  </thead>\n",
       "  <tbody>\n",
       "    <tr>\n",
       "      <th>3rd_ventricle</th>\n",
       "      <td>1.000000</td>\n",
       "      <td>0.031055</td>\n",
       "      <td>0.084081</td>\n",
       "      <td>-0.167351</td>\n",
       "      <td>0.519212</td>\n",
       "      <td>0.229040</td>\n",
       "    </tr>\n",
       "    <tr>\n",
       "      <th>PATIENT</th>\n",
       "      <td>0.031055</td>\n",
       "      <td>1.000000</td>\n",
       "      <td>0.362977</td>\n",
       "      <td>0.210592</td>\n",
       "      <td>0.152647</td>\n",
       "      <td>0.318072</td>\n",
       "    </tr>\n",
       "    <tr>\n",
       "      <th>SN_area</th>\n",
       "      <td>0.084081</td>\n",
       "      <td>0.362977</td>\n",
       "      <td>1.000000</td>\n",
       "      <td>0.450185</td>\n",
       "      <td>0.171549</td>\n",
       "      <td>0.208983</td>\n",
       "    </tr>\n",
       "    <tr>\n",
       "      <th>SN_index</th>\n",
       "      <td>-0.167351</td>\n",
       "      <td>0.210592</td>\n",
       "      <td>0.450185</td>\n",
       "      <td>1.000000</td>\n",
       "      <td>0.072416</td>\n",
       "      <td>-0.046826</td>\n",
       "    </tr>\n",
       "    <tr>\n",
       "      <th>age</th>\n",
       "      <td>0.519212</td>\n",
       "      <td>0.152647</td>\n",
       "      <td>0.171549</td>\n",
       "      <td>0.072416</td>\n",
       "      <td>1.000000</td>\n",
       "      <td>0.081719</td>\n",
       "    </tr>\n",
       "    <tr>\n",
       "      <th>gender</th>\n",
       "      <td>0.229040</td>\n",
       "      <td>0.318072</td>\n",
       "      <td>0.208983</td>\n",
       "      <td>-0.046826</td>\n",
       "      <td>0.081719</td>\n",
       "      <td>1.000000</td>\n",
       "    </tr>\n",
       "  </tbody>\n",
       "</table>\n",
       "</div>"
      ],
      "text/plain": [
       "               3rd_ventricle   PATIENT   SN_area  SN_index       age    gender\n",
       "3rd_ventricle       1.000000  0.031055  0.084081 -0.167351  0.519212  0.229040\n",
       "PATIENT             0.031055  1.000000  0.362977  0.210592  0.152647  0.318072\n",
       "SN_area             0.084081  0.362977  1.000000  0.450185  0.171549  0.208983\n",
       "SN_index           -0.167351  0.210592  0.450185  1.000000  0.072416 -0.046826\n",
       "age                 0.519212  0.152647  0.171549  0.072416  1.000000  0.081719\n",
       "gender              0.229040  0.318072  0.208983 -0.046826  0.081719  1.000000"
      ]
     },
     "execution_count": 9,
     "metadata": {},
     "output_type": "execute_result"
    }
   ],
   "source": [
    "corr_r"
   ]
  },
  {
   "cell_type": "code",
   "execution_count": 10,
   "metadata": {
    "collapsed": false
   },
   "outputs": [
    {
     "data": {
      "text/html": [
       "<div>\n",
       "<table border=\"1\" class=\"dataframe\">\n",
       "  <thead>\n",
       "    <tr style=\"text-align: right;\">\n",
       "      <th></th>\n",
       "      <th>3rd_ventricle</th>\n",
       "      <th>PATIENT</th>\n",
       "      <th>SN_area</th>\n",
       "      <th>SN_index</th>\n",
       "      <th>age</th>\n",
       "      <th>gender</th>\n",
       "    </tr>\n",
       "  </thead>\n",
       "  <tbody>\n",
       "    <tr>\n",
       "      <th>3rd_ventricle</th>\n",
       "      <td>0.000000e+00</td>\n",
       "      <td>0.763904</td>\n",
       "      <td>0.415375</td>\n",
       "      <td>0.103159</td>\n",
       "      <td>5.960148e-08</td>\n",
       "      <td>0.024790</td>\n",
       "    </tr>\n",
       "    <tr>\n",
       "      <th>PATIENT</th>\n",
       "      <td>7.639037e-01</td>\n",
       "      <td>0.000000</td>\n",
       "      <td>0.000258</td>\n",
       "      <td>0.038407</td>\n",
       "      <td>1.355238e-01</td>\n",
       "      <td>0.001499</td>\n",
       "    </tr>\n",
       "    <tr>\n",
       "      <th>SN_area</th>\n",
       "      <td>4.153752e-01</td>\n",
       "      <td>0.000258</td>\n",
       "      <td>0.000000</td>\n",
       "      <td>0.000004</td>\n",
       "      <td>9.292982e-02</td>\n",
       "      <td>0.039946</td>\n",
       "    </tr>\n",
       "    <tr>\n",
       "      <th>SN_index</th>\n",
       "      <td>1.031586e-01</td>\n",
       "      <td>0.038407</td>\n",
       "      <td>0.000004</td>\n",
       "      <td>0.000000</td>\n",
       "      <td>4.808742e-01</td>\n",
       "      <td>0.648779</td>\n",
       "    </tr>\n",
       "    <tr>\n",
       "      <th>age</th>\n",
       "      <td>5.960148e-08</td>\n",
       "      <td>0.135524</td>\n",
       "      <td>0.092930</td>\n",
       "      <td>0.480874</td>\n",
       "      <td>0.000000e+00</td>\n",
       "      <td>0.426185</td>\n",
       "    </tr>\n",
       "    <tr>\n",
       "      <th>gender</th>\n",
       "      <td>2.478999e-02</td>\n",
       "      <td>0.001499</td>\n",
       "      <td>0.039946</td>\n",
       "      <td>0.648779</td>\n",
       "      <td>4.261850e-01</td>\n",
       "      <td>0.000000</td>\n",
       "    </tr>\n",
       "  </tbody>\n",
       "</table>\n",
       "</div>"
      ],
      "text/plain": [
       "               3rd_ventricle   PATIENT   SN_area  SN_index           age  \\\n",
       "3rd_ventricle   0.000000e+00  0.763904  0.415375  0.103159  5.960148e-08   \n",
       "PATIENT         7.639037e-01  0.000000  0.000258  0.038407  1.355238e-01   \n",
       "SN_area         4.153752e-01  0.000258  0.000000  0.000004  9.292982e-02   \n",
       "SN_index        1.031586e-01  0.038407  0.000004  0.000000  4.808742e-01   \n",
       "age             5.960148e-08  0.135524  0.092930  0.480874  0.000000e+00   \n",
       "gender          2.478999e-02  0.001499  0.039946  0.648779  4.261850e-01   \n",
       "\n",
       "                 gender  \n",
       "3rd_ventricle  0.024790  \n",
       "PATIENT        0.001499  \n",
       "SN_area        0.039946  \n",
       "SN_index       0.648779  \n",
       "age            0.426185  \n",
       "gender         0.000000  "
      ]
     },
     "execution_count": 10,
     "metadata": {},
     "output_type": "execute_result"
    }
   ],
   "source": [
    "corr_p"
   ]
  },
  {
   "cell_type": "code",
   "execution_count": 11,
   "metadata": {
    "collapsed": false
   },
   "outputs": [
    {
     "data": {
      "text/html": [
       "<div>\n",
       "<table border=\"1\" class=\"dataframe\">\n",
       "  <thead>\n",
       "    <tr style=\"text-align: right;\">\n",
       "      <th></th>\n",
       "      <th>3rd_ventricle</th>\n",
       "      <th>PATIENT</th>\n",
       "      <th>SN_area</th>\n",
       "      <th>SN_index</th>\n",
       "      <th>age</th>\n",
       "      <th>gender</th>\n",
       "    </tr>\n",
       "  </thead>\n",
       "  <tbody>\n",
       "    <tr>\n",
       "      <th>3rd_ventricle</th>\n",
       "      <td>True</td>\n",
       "      <td>False</td>\n",
       "      <td>False</td>\n",
       "      <td>False</td>\n",
       "      <td>True</td>\n",
       "      <td>False</td>\n",
       "    </tr>\n",
       "    <tr>\n",
       "      <th>PATIENT</th>\n",
       "      <td>False</td>\n",
       "      <td>True</td>\n",
       "      <td>True</td>\n",
       "      <td>False</td>\n",
       "      <td>False</td>\n",
       "      <td>True</td>\n",
       "    </tr>\n",
       "    <tr>\n",
       "      <th>SN_area</th>\n",
       "      <td>False</td>\n",
       "      <td>True</td>\n",
       "      <td>True</td>\n",
       "      <td>True</td>\n",
       "      <td>False</td>\n",
       "      <td>False</td>\n",
       "    </tr>\n",
       "    <tr>\n",
       "      <th>SN_index</th>\n",
       "      <td>False</td>\n",
       "      <td>False</td>\n",
       "      <td>True</td>\n",
       "      <td>True</td>\n",
       "      <td>False</td>\n",
       "      <td>False</td>\n",
       "    </tr>\n",
       "    <tr>\n",
       "      <th>age</th>\n",
       "      <td>True</td>\n",
       "      <td>False</td>\n",
       "      <td>False</td>\n",
       "      <td>False</td>\n",
       "      <td>True</td>\n",
       "      <td>False</td>\n",
       "    </tr>\n",
       "    <tr>\n",
       "      <th>gender</th>\n",
       "      <td>False</td>\n",
       "      <td>True</td>\n",
       "      <td>False</td>\n",
       "      <td>False</td>\n",
       "      <td>False</td>\n",
       "      <td>True</td>\n",
       "    </tr>\n",
       "  </tbody>\n",
       "</table>\n",
       "</div>"
      ],
      "text/plain": [
       "              3rd_ventricle PATIENT SN_area SN_index    age gender\n",
       "3rd_ventricle          True   False   False    False   True  False\n",
       "PATIENT               False    True    True    False  False   True\n",
       "SN_area               False    True    True     True  False  False\n",
       "SN_index              False   False    True     True  False  False\n",
       "age                    True   False   False    False   True  False\n",
       "gender                False    True   False    False  False   True"
      ]
     },
     "execution_count": 11,
     "metadata": {},
     "output_type": "execute_result"
    }
   ],
   "source": [
    "corr_b"
   ]
  },
  {
   "cell_type": "code",
   "execution_count": 12,
   "metadata": {
    "collapsed": false
   },
   "outputs": [
    {
     "data": {
      "text/plain": [
       "<matplotlib.axes._subplots.AxesSubplot at 0x7f7cc3bc1ed0>"
      ]
     },
     "execution_count": 12,
     "metadata": {},
     "output_type": "execute_result"
    },
    {
     "data": {
      "image/png": "[encoded data removed]",
      "text/plain": [
       "<matplotlib.figure.Figure at 0x7f7cc45a5c10>"
      ]
     },
     "metadata": {},
     "output_type": "display_data"
    }
   ],
   "source": [
    "sns.heatmap(corr_r)"
   ]
  },
  {
   "cell_type": "code",
   "execution_count": 13,
   "metadata": {
    "collapsed": false
   },
   "outputs": [
    {
     "data": {
      "text/plain": [
       "<matplotlib.axes._subplots.AxesSubplot at 0x7f7cc44ca6d0>"
      ]
     },
     "execution_count": 13,
     "metadata": {},
     "output_type": "execute_result"
    },
    {
     "data": {
      "image/png": "[encoded data removed]",
      "text/plain": [
       "<matplotlib.figure.Figure at 0x7f7cc3b00750>"
      ]
     },
     "metadata": {},
     "output_type": "display_data"
    }
   ],
   "source": [
    "sns.heatmap(corr_b)"
   ]
  },
  {
   "cell_type": "markdown",
   "metadata": {},
   "source": [
    "## Patients correlations"
   ]
  },
  {
   "cell_type": "code",
   "execution_count": 14,
   "metadata": {
    "collapsed": false
   },
   "outputs": [],
   "source": [
    "pat_corr_r, pat_corr_p, pat_corr_b = pavelstatsutils.corr(df.loc[df['PATIENT'] == 1].drop(['PATIENT'], axis=1))"
   ]
  },
  {
   "cell_type": "code",
   "execution_count": 15,
   "metadata": {
    "collapsed": false
   },
   "outputs": [
    {
     "data": {
      "text/html": [
       "<div>\n",
       "<table border=\"1\" class=\"dataframe\">\n",
       "  <thead>\n",
       "    <tr style=\"text-align: right;\">\n",
       "      <th></th>\n",
       "      <th>3rd_ventricle</th>\n",
       "      <th>SN_area</th>\n",
       "      <th>SN_index</th>\n",
       "      <th>age</th>\n",
       "      <th>gender</th>\n",
       "    </tr>\n",
       "  </thead>\n",
       "  <tbody>\n",
       "    <tr>\n",
       "      <th>3rd_ventricle</th>\n",
       "      <td>1.000000</td>\n",
       "      <td>0.210057</td>\n",
       "      <td>0.040944</td>\n",
       "      <td>0.437339</td>\n",
       "      <td>0.024590</td>\n",
       "    </tr>\n",
       "    <tr>\n",
       "      <th>SN_area</th>\n",
       "      <td>0.210057</td>\n",
       "      <td>1.000000</td>\n",
       "      <td>0.426215</td>\n",
       "      <td>0.270940</td>\n",
       "      <td>0.046831</td>\n",
       "    </tr>\n",
       "    <tr>\n",
       "      <th>SN_index</th>\n",
       "      <td>0.040944</td>\n",
       "      <td>0.426215</td>\n",
       "      <td>1.000000</td>\n",
       "      <td>0.316249</td>\n",
       "      <td>-0.278737</td>\n",
       "    </tr>\n",
       "    <tr>\n",
       "      <th>age</th>\n",
       "      <td>0.437339</td>\n",
       "      <td>0.270940</td>\n",
       "      <td>0.316249</td>\n",
       "      <td>1.000000</td>\n",
       "      <td>-0.118366</td>\n",
       "    </tr>\n",
       "    <tr>\n",
       "      <th>gender</th>\n",
       "      <td>0.024590</td>\n",
       "      <td>0.046831</td>\n",
       "      <td>-0.278737</td>\n",
       "      <td>-0.118366</td>\n",
       "      <td>1.000000</td>\n",
       "    </tr>\n",
       "  </tbody>\n",
       "</table>\n",
       "</div>"
      ],
      "text/plain": [
       "               3rd_ventricle   SN_area  SN_index       age    gender\n",
       "3rd_ventricle       1.000000  0.210057  0.040944  0.437339  0.024590\n",
       "SN_area             0.210057  1.000000  0.426215  0.270940  0.046831\n",
       "SN_index            0.040944  0.426215  1.000000  0.316249 -0.278737\n",
       "age                 0.437339  0.270940  0.316249  1.000000 -0.118366\n",
       "gender              0.024590  0.046831 -0.278737 -0.118366  1.000000"
      ]
     },
     "execution_count": 15,
     "metadata": {},
     "output_type": "execute_result"
    }
   ],
   "source": [
    "pat_corr_r"
   ]
  },
  {
   "cell_type": "code",
   "execution_count": 16,
   "metadata": {
    "collapsed": false
   },
   "outputs": [
    {
     "data": {
      "text/html": [
       "<div>\n",
       "<table border=\"1\" class=\"dataframe\">\n",
       "  <thead>\n",
       "    <tr style=\"text-align: right;\">\n",
       "      <th></th>\n",
       "      <th>3rd_ventricle</th>\n",
       "      <th>SN_area</th>\n",
       "      <th>SN_index</th>\n",
       "      <th>age</th>\n",
       "      <th>gender</th>\n",
       "    </tr>\n",
       "  </thead>\n",
       "  <tbody>\n",
       "    <tr>\n",
       "      <th>3rd_ventricle</th>\n",
       "      <td>0.000000</td>\n",
       "      <td>0.151857</td>\n",
       "      <td>0.782312</td>\n",
       "      <td>0.001882</td>\n",
       "      <td>0.868235</td>\n",
       "    </tr>\n",
       "    <tr>\n",
       "      <th>SN_area</th>\n",
       "      <td>0.151857</td>\n",
       "      <td>0.000000</td>\n",
       "      <td>0.002261</td>\n",
       "      <td>0.059699</td>\n",
       "      <td>0.749325</td>\n",
       "    </tr>\n",
       "    <tr>\n",
       "      <th>SN_index</th>\n",
       "      <td>0.782312</td>\n",
       "      <td>0.002261</td>\n",
       "      <td>0.000000</td>\n",
       "      <td>0.026846</td>\n",
       "      <td>0.052450</td>\n",
       "    </tr>\n",
       "    <tr>\n",
       "      <th>age</th>\n",
       "      <td>0.001882</td>\n",
       "      <td>0.059699</td>\n",
       "      <td>0.026846</td>\n",
       "      <td>0.000000</td>\n",
       "      <td>0.417927</td>\n",
       "    </tr>\n",
       "    <tr>\n",
       "      <th>gender</th>\n",
       "      <td>0.868235</td>\n",
       "      <td>0.749325</td>\n",
       "      <td>0.052450</td>\n",
       "      <td>0.417927</td>\n",
       "      <td>0.000000</td>\n",
       "    </tr>\n",
       "  </tbody>\n",
       "</table>\n",
       "</div>"
      ],
      "text/plain": [
       "               3rd_ventricle   SN_area  SN_index       age    gender\n",
       "3rd_ventricle       0.000000  0.151857  0.782312  0.001882  0.868235\n",
       "SN_area             0.151857  0.000000  0.002261  0.059699  0.749325\n",
       "SN_index            0.782312  0.002261  0.000000  0.026846  0.052450\n",
       "age                 0.001882  0.059699  0.026846  0.000000  0.417927\n",
       "gender              0.868235  0.749325  0.052450  0.417927  0.000000"
      ]
     },
     "execution_count": 16,
     "metadata": {},
     "output_type": "execute_result"
    }
   ],
   "source": [
    "pat_corr_p"
   ]
  },
  {
   "cell_type": "code",
   "execution_count": 17,
   "metadata": {
    "collapsed": false
   },
   "outputs": [
    {
     "data": {
      "text/html": [
       "<div>\n",
       "<table border=\"1\" class=\"dataframe\">\n",
       "  <thead>\n",
       "    <tr style=\"text-align: right;\">\n",
       "      <th></th>\n",
       "      <th>3rd_ventricle</th>\n",
       "      <th>SN_area</th>\n",
       "      <th>SN_index</th>\n",
       "      <th>age</th>\n",
       "      <th>gender</th>\n",
       "    </tr>\n",
       "  </thead>\n",
       "  <tbody>\n",
       "    <tr>\n",
       "      <th>3rd_ventricle</th>\n",
       "      <td>True</td>\n",
       "      <td>False</td>\n",
       "      <td>False</td>\n",
       "      <td>True</td>\n",
       "      <td>False</td>\n",
       "    </tr>\n",
       "    <tr>\n",
       "      <th>SN_area</th>\n",
       "      <td>False</td>\n",
       "      <td>True</td>\n",
       "      <td>True</td>\n",
       "      <td>False</td>\n",
       "      <td>False</td>\n",
       "    </tr>\n",
       "    <tr>\n",
       "      <th>SN_index</th>\n",
       "      <td>False</td>\n",
       "      <td>True</td>\n",
       "      <td>True</td>\n",
       "      <td>False</td>\n",
       "      <td>False</td>\n",
       "    </tr>\n",
       "    <tr>\n",
       "      <th>age</th>\n",
       "      <td>True</td>\n",
       "      <td>False</td>\n",
       "      <td>False</td>\n",
       "      <td>True</td>\n",
       "      <td>False</td>\n",
       "    </tr>\n",
       "    <tr>\n",
       "      <th>gender</th>\n",
       "      <td>False</td>\n",
       "      <td>False</td>\n",
       "      <td>False</td>\n",
       "      <td>False</td>\n",
       "      <td>True</td>\n",
       "    </tr>\n",
       "  </tbody>\n",
       "</table>\n",
       "</div>"
      ],
      "text/plain": [
       "              3rd_ventricle SN_area SN_index    age gender\n",
       "3rd_ventricle          True   False    False   True  False\n",
       "SN_area               False    True     True  False  False\n",
       "SN_index              False    True     True  False  False\n",
       "age                    True   False    False   True  False\n",
       "gender                False   False    False  False   True"
      ]
     },
     "execution_count": 17,
     "metadata": {},
     "output_type": "execute_result"
    }
   ],
   "source": [
    "pat_corr_b"
   ]
  },
  {
   "cell_type": "code",
   "execution_count": 18,
   "metadata": {
    "collapsed": false
   },
   "outputs": [
    {
     "data": {
      "text/plain": [
       "<matplotlib.axes._subplots.AxesSubplot at 0x7f7cc39b0410>"
      ]
     },
     "execution_count": 18,
     "metadata": {},
     "output_type": "execute_result"
    },
    {
     "data": {
      "image/png": "[encoded data removed]",
      "text/plain": [
       "<matplotlib.figure.Figure at 0x7f7cc4507090>"
      ]
     },
     "metadata": {},
     "output_type": "display_data"
    }
   ],
   "source": [
    "sns.heatmap(pat_corr_r)"
   ]
  },
  {
   "cell_type": "code",
   "execution_count": 19,
   "metadata": {
    "collapsed": false
   },
   "outputs": [
    {
     "data": {
      "text/plain": [
       "<matplotlib.axes._subplots.AxesSubplot at 0x7f7cc187ff90>"
      ]
     },
     "execution_count": 19,
     "metadata": {},
     "output_type": "execute_result"
    },
    {
     "data": {
      "image/png": "[encoded data removed]",
      "text/plain": [
       "<matplotlib.figure.Figure at 0x7f7cc186ca10>"
      ]
     },
     "metadata": {},
     "output_type": "display_data"
    }
   ],
   "source": [
    "sns.heatmap(pat_corr_b)"
   ]
  },
  {
   "cell_type": "markdown",
   "metadata": {},
   "source": [
    "## Controls correlations"
   ]
  },
  {
   "cell_type": "code",
   "execution_count": 20,
   "metadata": {
    "collapsed": false
   },
   "outputs": [],
   "source": [
    "con_corr_r, con_corr_p, con_corr_b = pavelstatsutils.corr(df.loc[df['PATIENT'] == 0].drop(['PATIENT'], axis=1))"
   ]
  },
  {
   "cell_type": "code",
   "execution_count": 21,
   "metadata": {
    "collapsed": false
   },
   "outputs": [
    {
     "data": {
      "text/html": [
       "<div>\n",
       "<table border=\"1\" class=\"dataframe\">\n",
       "  <thead>\n",
       "    <tr style=\"text-align: right;\">\n",
       "      <th></th>\n",
       "      <th>3rd_ventricle</th>\n",
       "      <th>SN_area</th>\n",
       "      <th>SN_index</th>\n",
       "      <th>age</th>\n",
       "      <th>gender</th>\n",
       "    </tr>\n",
       "  </thead>\n",
       "  <tbody>\n",
       "    <tr>\n",
       "      <th>3rd_ventricle</th>\n",
       "      <td>1.000000</td>\n",
       "      <td>-0.160366</td>\n",
       "      <td>-0.455891</td>\n",
       "      <td>0.589949</td>\n",
       "      <td>0.338869</td>\n",
       "    </tr>\n",
       "    <tr>\n",
       "      <th>SN_area</th>\n",
       "      <td>-0.160366</td>\n",
       "      <td>1.000000</td>\n",
       "      <td>0.398432</td>\n",
       "      <td>-0.100589</td>\n",
       "      <td>0.224073</td>\n",
       "    </tr>\n",
       "    <tr>\n",
       "      <th>SN_index</th>\n",
       "      <td>-0.455891</td>\n",
       "      <td>0.398432</td>\n",
       "      <td>1.000000</td>\n",
       "      <td>-0.266936</td>\n",
       "      <td>-0.057539</td>\n",
       "    </tr>\n",
       "    <tr>\n",
       "      <th>age</th>\n",
       "      <td>0.589949</td>\n",
       "      <td>-0.100589</td>\n",
       "      <td>-0.266936</td>\n",
       "      <td>1.000000</td>\n",
       "      <td>0.096963</td>\n",
       "    </tr>\n",
       "    <tr>\n",
       "      <th>gender</th>\n",
       "      <td>0.338869</td>\n",
       "      <td>0.224073</td>\n",
       "      <td>-0.057539</td>\n",
       "      <td>0.096963</td>\n",
       "      <td>1.000000</td>\n",
       "    </tr>\n",
       "  </tbody>\n",
       "</table>\n",
       "</div>"
      ],
      "text/plain": [
       "               3rd_ventricle   SN_area  SN_index       age    gender\n",
       "3rd_ventricle       1.000000 -0.160366 -0.455891  0.589949  0.338869\n",
       "SN_area            -0.160366  1.000000  0.398432 -0.100589  0.224073\n",
       "SN_index           -0.455891  0.398432  1.000000 -0.266936 -0.057539\n",
       "age                 0.589949 -0.100589 -0.266936  1.000000  0.096963\n",
       "gender              0.338869  0.224073 -0.057539  0.096963  1.000000"
      ]
     },
     "execution_count": 21,
     "metadata": {},
     "output_type": "execute_result"
    }
   ],
   "source": [
    "con_corr_r"
   ]
  },
  {
   "cell_type": "code",
   "execution_count": 22,
   "metadata": {
    "collapsed": false
   },
   "outputs": [
    {
     "data": {
      "text/html": [
       "<div>\n",
       "<table border=\"1\" class=\"dataframe\">\n",
       "  <thead>\n",
       "    <tr style=\"text-align: right;\">\n",
       "      <th></th>\n",
       "      <th>3rd_ventricle</th>\n",
       "      <th>SN_area</th>\n",
       "      <th>SN_index</th>\n",
       "      <th>age</th>\n",
       "      <th>gender</th>\n",
       "    </tr>\n",
       "  </thead>\n",
       "  <tbody>\n",
       "    <tr>\n",
       "      <th>3rd_ventricle</th>\n",
       "      <td>0.000000</td>\n",
       "      <td>0.276231</td>\n",
       "      <td>0.001129</td>\n",
       "      <td>0.000010</td>\n",
       "      <td>0.018471</td>\n",
       "    </tr>\n",
       "    <tr>\n",
       "      <th>SN_area</th>\n",
       "      <td>0.276231</td>\n",
       "      <td>0.000000</td>\n",
       "      <td>0.005034</td>\n",
       "      <td>0.496341</td>\n",
       "      <td>0.125759</td>\n",
       "    </tr>\n",
       "    <tr>\n",
       "      <th>SN_index</th>\n",
       "      <td>0.001129</td>\n",
       "      <td>0.005034</td>\n",
       "      <td>0.000000</td>\n",
       "      <td>0.066643</td>\n",
       "      <td>0.697679</td>\n",
       "    </tr>\n",
       "    <tr>\n",
       "      <th>age</th>\n",
       "      <td>0.000010</td>\n",
       "      <td>0.496341</td>\n",
       "      <td>0.066643</td>\n",
       "      <td>0.000000</td>\n",
       "      <td>0.512070</td>\n",
       "    </tr>\n",
       "    <tr>\n",
       "      <th>gender</th>\n",
       "      <td>0.018471</td>\n",
       "      <td>0.125759</td>\n",
       "      <td>0.697679</td>\n",
       "      <td>0.512070</td>\n",
       "      <td>0.000000</td>\n",
       "    </tr>\n",
       "  </tbody>\n",
       "</table>\n",
       "</div>"
      ],
      "text/plain": [
       "               3rd_ventricle   SN_area  SN_index       age    gender\n",
       "3rd_ventricle       0.000000  0.276231  0.001129  0.000010  0.018471\n",
       "SN_area             0.276231  0.000000  0.005034  0.496341  0.125759\n",
       "SN_index            0.001129  0.005034  0.000000  0.066643  0.697679\n",
       "age                 0.000010  0.496341  0.066643  0.000000  0.512070\n",
       "gender              0.018471  0.125759  0.697679  0.512070  0.000000"
      ]
     },
     "execution_count": 22,
     "metadata": {},
     "output_type": "execute_result"
    }
   ],
   "source": [
    "con_corr_p"
   ]
  },
  {
   "cell_type": "code",
   "execution_count": 23,
   "metadata": {
    "collapsed": false
   },
   "outputs": [
    {
     "data": {
      "text/html": [
       "<div>\n",
       "<table border=\"1\" class=\"dataframe\">\n",
       "  <thead>\n",
       "    <tr style=\"text-align: right;\">\n",
       "      <th></th>\n",
       "      <th>3rd_ventricle</th>\n",
       "      <th>SN_area</th>\n",
       "      <th>SN_index</th>\n",
       "      <th>age</th>\n",
       "      <th>gender</th>\n",
       "    </tr>\n",
       "  </thead>\n",
       "  <tbody>\n",
       "    <tr>\n",
       "      <th>3rd_ventricle</th>\n",
       "      <td>True</td>\n",
       "      <td>False</td>\n",
       "      <td>True</td>\n",
       "      <td>True</td>\n",
       "      <td>False</td>\n",
       "    </tr>\n",
       "    <tr>\n",
       "      <th>SN_area</th>\n",
       "      <td>False</td>\n",
       "      <td>True</td>\n",
       "      <td>True</td>\n",
       "      <td>False</td>\n",
       "      <td>False</td>\n",
       "    </tr>\n",
       "    <tr>\n",
       "      <th>SN_index</th>\n",
       "      <td>True</td>\n",
       "      <td>True</td>\n",
       "      <td>True</td>\n",
       "      <td>False</td>\n",
       "      <td>False</td>\n",
       "    </tr>\n",
       "    <tr>\n",
       "      <th>age</th>\n",
       "      <td>True</td>\n",
       "      <td>False</td>\n",
       "      <td>False</td>\n",
       "      <td>True</td>\n",
       "      <td>False</td>\n",
       "    </tr>\n",
       "    <tr>\n",
       "      <th>gender</th>\n",
       "      <td>False</td>\n",
       "      <td>False</td>\n",
       "      <td>False</td>\n",
       "      <td>False</td>\n",
       "      <td>True</td>\n",
       "    </tr>\n",
       "  </tbody>\n",
       "</table>\n",
       "</div>"
      ],
      "text/plain": [
       "              3rd_ventricle SN_area SN_index    age gender\n",
       "3rd_ventricle          True   False     True   True  False\n",
       "SN_area               False    True     True  False  False\n",
       "SN_index               True    True     True  False  False\n",
       "age                    True   False    False   True  False\n",
       "gender                False   False    False  False   True"
      ]
     },
     "execution_count": 23,
     "metadata": {},
     "output_type": "execute_result"
    }
   ],
   "source": [
    "con_corr_b"
   ]
  },
  {
   "cell_type": "code",
   "execution_count": 24,
   "metadata": {
    "collapsed": false
   },
   "outputs": [
    {
     "data": {
      "text/plain": [
       "<matplotlib.axes._subplots.AxesSubplot at 0x7f7cc17662d0>"
      ]
     },
     "execution_count": 24,
     "metadata": {},
     "output_type": "execute_result"
    },
    {
     "data": {
      "image/png": "[encoded data removed]",
      "text/plain": [
       "<matplotlib.figure.Figure at 0x7f7cc4503f10>"
      ]
     },
     "metadata": {},
     "output_type": "display_data"
    }
   ],
   "source": [
    "sns.heatmap(con_corr_r)"
   ]
  },
  {
   "cell_type": "code",
   "execution_count": 25,
   "metadata": {
    "collapsed": false
   },
   "outputs": [
    {
     "data": {
      "text/plain": [
       "<matplotlib.axes._subplots.AxesSubplot at 0x7f7cc1629d50>"
      ]
     },
     "execution_count": 25,
     "metadata": {},
     "output_type": "execute_result"
    },
    {
     "data": {
      "image/png": "[encoded data removed]",
      "text/plain": [
       "<matplotlib.figure.Figure at 0x7f7cc1732d50>"
      ]
     },
     "metadata": {},
     "output_type": "display_data"
    }
   ],
   "source": [
    "sns.heatmap(con_corr_b)"
   ]
  },
  {
   "cell_type": "markdown",
   "metadata": {},
   "source": [
    "## Comparison of patients and groups in significant correlations"
   ]
  },
  {
   "cell_type": "code",
   "execution_count": 26,
   "metadata": {
    "collapsed": false
   },
   "outputs": [
    {
     "data": {
      "text/plain": [
       "<matplotlib.axes._subplots.AxesSubplot at 0x7f7cc14e2150>"
      ]
     },
     "execution_count": 26,
     "metadata": {},
     "output_type": "execute_result"
    },
    {
     "data": {
      "image/png": "[encoded data removed]",
      "text/plain": [
       "<matplotlib.figure.Figure at 0x7f7cc169e390>"
      ]
     },
     "metadata": {},
     "output_type": "display_data"
    }
   ],
   "source": [
    "sns.heatmap( pat_corr_b ^ con_corr_b )"
   ]
  },
  {
   "cell_type": "markdown",
   "metadata": {},
   "source": [
    "# Group comparisons"
   ]
  },
  {
   "cell_type": "markdown",
   "metadata": {},
   "source": [
    "## Plots"
   ]
  },
  {
   "cell_type": "code",
   "execution_count": 27,
   "metadata": {
    "collapsed": false
   },
   "outputs": [
    {
     "data": {
      "image/png": "[encoded data removed]",
      "text/plain": [
       "<matplotlib.figure.Figure at 0x7f7cc138f950>"
      ]
     },
     "metadata": {},
     "output_type": "display_data"
    }
   ],
   "source": [
    "f, axes = plt.subplots(1, len(df.columns)-2, figsize=(10, 10), sharex=True)\n",
    "i = 0\n",
    "for column in df.columns:\n",
    "    if column != \"PATIENT\" and column != \"gender\":\n",
    "        sns.boxplot(x=\"PATIENT\", y=column, data=df, ax=axes[i])\n",
    "        i = i + 1\n",
    "#plt.setp(axes, yticks=[])\n",
    "plt.tight_layout()"
   ]
  },
  {
   "cell_type": "markdown",
   "metadata": {},
   "source": [
    "## Parametric testing prerequisities"
   ]
  },
  {
   "cell_type": "markdown",
   "metadata": {},
   "source": [
    "Shapiro: Shapiro-Wilk's test for normality.\n",
    "\n",
    "Levene: Levene's test for homoscedasticity."
   ]
  },
  {
   "cell_type": "code",
   "execution_count": 28,
   "metadata": {
    "collapsed": false
   },
   "outputs": [],
   "source": [
    "prereq = {}\n",
    "prereq_p = {}\n",
    "for column in df.columns:\n",
    "    if column != 'PATIENT':\n",
    "        prereq_p[column] = []\n",
    "        prereq[column] = []\n",
    "        \n",
    "        #All Normality Shapiro-Wilk test\n",
    "        W, p = scipy.stats.shapiro(df[column].dropna())\n",
    "        normality = p > 0.05\n",
    "        prereq_p[column].append(p)\n",
    "        prereq[column].append(normality)\n",
    "        \n",
    "        #Patients Normality Shapiro-Wilk test\n",
    "        W, p = scipy.stats.shapiro(df.loc[df['PATIENT'] == 1, column].dropna())\n",
    "        normality = p > 0.05\n",
    "        prereq_p[column].append(p)\n",
    "        prereq[column].append(normality)\n",
    "\n",
    "        #Controls Normality Shapiro-Wilk test\n",
    "        W, p = scipy.stats.shapiro(df.loc[df['PATIENT'] == 0, column].dropna())\n",
    "        normality = p > 0.05\n",
    "        prereq_p[column].append(p)\n",
    "        prereq[column].append(normality)\n",
    "\n",
    "        #Patients & Controls Homoscedasticity\n",
    "        W, p = scipy.stats.levene(df.loc[df['PATIENT'] == 1, column].dropna(), df.loc[df['PATIENT'] == 0, column].dropna())\n",
    "        homoscedasticity = p > 0.05\n",
    "        prereq_p[column].append(p)\n",
    "        prereq[column].append(homoscedasticity)\n",
    "        \n",
    "prerequisities = pd.DataFrame(prereq, index=['all_normality', 'patients_normality', 'controls_normality', 'homoscedasticity'])\n",
    "prerequisities_p = pd.DataFrame(prereq_p, index=['all_Shapiro', 'patients_Shapiro', 'controls_Shapiro', 'Levene'])"
   ]
  },
  {
   "cell_type": "code",
   "execution_count": 29,
   "metadata": {
    "collapsed": false
   },
   "outputs": [
    {
     "data": {
      "text/html": [
       "<div>\n",
       "<table border=\"1\" class=\"dataframe\">\n",
       "  <thead>\n",
       "    <tr style=\"text-align: right;\">\n",
       "      <th></th>\n",
       "      <th>3rd_ventricle</th>\n",
       "      <th>SN_area</th>\n",
       "      <th>SN_index</th>\n",
       "      <th>age</th>\n",
       "      <th>gender</th>\n",
       "    </tr>\n",
       "  </thead>\n",
       "  <tbody>\n",
       "    <tr>\n",
       "      <th>all_normality</th>\n",
       "      <td>True</td>\n",
       "      <td>False</td>\n",
       "      <td>True</td>\n",
       "      <td>True</td>\n",
       "      <td>False</td>\n",
       "    </tr>\n",
       "    <tr>\n",
       "      <th>patients_normality</th>\n",
       "      <td>True</td>\n",
       "      <td>False</td>\n",
       "      <td>True</td>\n",
       "      <td>True</td>\n",
       "      <td>False</td>\n",
       "    </tr>\n",
       "    <tr>\n",
       "      <th>controls_normality</th>\n",
       "      <td>True</td>\n",
       "      <td>False</td>\n",
       "      <td>False</td>\n",
       "      <td>True</td>\n",
       "      <td>False</td>\n",
       "    </tr>\n",
       "    <tr>\n",
       "      <th>homoscedasticity</th>\n",
       "      <td>True</td>\n",
       "      <td>False</td>\n",
       "      <td>True</td>\n",
       "      <td>True</td>\n",
       "      <td>False</td>\n",
       "    </tr>\n",
       "  </tbody>\n",
       "</table>\n",
       "</div>"
      ],
      "text/plain": [
       "                   3rd_ventricle SN_area SN_index   age gender\n",
       "all_normality               True   False     True  True  False\n",
       "patients_normality          True   False     True  True  False\n",
       "controls_normality          True   False    False  True  False\n",
       "homoscedasticity            True   False     True  True  False"
      ]
     },
     "execution_count": 29,
     "metadata": {},
     "output_type": "execute_result"
    }
   ],
   "source": [
    "prerequisities"
   ]
  },
  {
   "cell_type": "code",
   "execution_count": 30,
   "metadata": {
    "collapsed": false
   },
   "outputs": [
    {
     "data": {
      "text/html": [
       "<div>\n",
       "<table border=\"1\" class=\"dataframe\">\n",
       "  <thead>\n",
       "    <tr style=\"text-align: right;\">\n",
       "      <th></th>\n",
       "      <th>3rd_ventricle</th>\n",
       "      <th>SN_area</th>\n",
       "      <th>SN_index</th>\n",
       "      <th>age</th>\n",
       "      <th>gender</th>\n",
       "    </tr>\n",
       "  </thead>\n",
       "  <tbody>\n",
       "    <tr>\n",
       "      <th>all_Shapiro</th>\n",
       "      <td>0.169670</td>\n",
       "      <td>6.450490e-09</td>\n",
       "      <td>0.051151</td>\n",
       "      <td>0.082799</td>\n",
       "      <td>1.313326e-17</td>\n",
       "    </tr>\n",
       "    <tr>\n",
       "      <th>patients_Shapiro</th>\n",
       "      <td>0.133327</td>\n",
       "      <td>1.160689e-04</td>\n",
       "      <td>0.900784</td>\n",
       "      <td>0.061875</td>\n",
       "      <td>7.294958e-15</td>\n",
       "    </tr>\n",
       "    <tr>\n",
       "      <th>controls_Shapiro</th>\n",
       "      <td>0.113541</td>\n",
       "      <td>1.678474e-03</td>\n",
       "      <td>0.020370</td>\n",
       "      <td>0.951933</td>\n",
       "      <td>7.849141e-11</td>\n",
       "    </tr>\n",
       "    <tr>\n",
       "      <th>Levene</th>\n",
       "      <td>0.740833</td>\n",
       "      <td>2.156277e-03</td>\n",
       "      <td>0.054132</td>\n",
       "      <td>0.189123</td>\n",
       "      <td>1.498774e-03</td>\n",
       "    </tr>\n",
       "  </tbody>\n",
       "</table>\n",
       "</div>"
      ],
      "text/plain": [
       "                  3rd_ventricle       SN_area  SN_index       age  \\\n",
       "all_Shapiro            0.169670  6.450490e-09  0.051151  0.082799   \n",
       "patients_Shapiro       0.133327  1.160689e-04  0.900784  0.061875   \n",
       "controls_Shapiro       0.113541  1.678474e-03  0.020370  0.951933   \n",
       "Levene                 0.740833  2.156277e-03  0.054132  0.189123   \n",
       "\n",
       "                        gender  \n",
       "all_Shapiro       1.313326e-17  \n",
       "patients_Shapiro  7.294958e-15  \n",
       "controls_Shapiro  7.849141e-11  \n",
       "Levene            1.498774e-03  "
      ]
     },
     "execution_count": 30,
     "metadata": {},
     "output_type": "execute_result"
    }
   ],
   "source": [
    "prerequisities_p"
   ]
  },
  {
   "cell_type": "markdown",
   "metadata": {},
   "source": [
    "## Stastistical tests"
   ]
  },
  {
   "cell_type": "code",
   "execution_count": 31,
   "metadata": {
    "collapsed": true
   },
   "outputs": [],
   "source": [
    "test = {}\n",
    "for column in df.columns:\n",
    "    if column != 'PATIENT':\n",
    "        test[column] = []\n",
    "        \n",
    "        homoscedasticity = prerequisities.loc['homoscedasticity'][column]\n",
    "        \n",
    "        #Student's T-test\n",
    "        if homoscedasticity:\n",
    "            t, p = scipy.stats.ttest_ind(\n",
    "                df.loc[df['PATIENT'] == 1, column].dropna(),\n",
    "                df.loc[df['PATIENT'] == 0, column].dropna(),\n",
    "                equal_var=homoscedasticity\n",
    "            )\n",
    "            test[column].append(p) #Student's T-test (prerequisities fullfilled)\n",
    "            test[column].append('') #Welsh T-test\n",
    "        \n",
    "        #Welsh T-test\n",
    "        else:\n",
    "            t, p = scipy.stats.ttest_ind(\n",
    "                df.loc[df['PATIENT'] == 1, column].dropna(),\n",
    "                df.loc[df['PATIENT'] == 0, column].dropna(),\n",
    "                equal_var=homoscedasticity\n",
    "            )\n",
    "            test[column].append('') #Student's T-test (prerequisities not fullfilled)\n",
    "            test[column].append(p)\n",
    "        \n",
    "        #Mann-Whitney U-test\n",
    "        u, p = scipy.stats.mannwhitneyu(\n",
    "                df.loc[df['PATIENT'] == 1, column].dropna(),\n",
    "                df.loc[df['PATIENT'] == 0, column].dropna()\n",
    "        )\n",
    "        test[column].append(p)\n",
    "\n",
    "test = pd.DataFrame(test, index=['Student_T-test', 'Welsh_T-test', 'Mann-Whitney_U-test'])"
   ]
  },
  {
   "cell_type": "code",
   "execution_count": 32,
   "metadata": {
    "collapsed": false
   },
   "outputs": [
    {
     "data": {
      "text/html": [
       "<div>\n",
       "<table border=\"1\" class=\"dataframe\">\n",
       "  <thead>\n",
       "    <tr style=\"text-align: right;\">\n",
       "      <th></th>\n",
       "      <th>3rd_ventricle</th>\n",
       "      <th>SN_area</th>\n",
       "      <th>SN_index</th>\n",
       "      <th>age</th>\n",
       "      <th>gender</th>\n",
       "    </tr>\n",
       "  </thead>\n",
       "  <tbody>\n",
       "    <tr>\n",
       "      <th>Student_T-test</th>\n",
       "      <td>0.763904</td>\n",
       "      <td></td>\n",
       "      <td>0.0384067</td>\n",
       "      <td>0.135524</td>\n",
       "      <td></td>\n",
       "    </tr>\n",
       "    <tr>\n",
       "      <th>Welsh_T-test</th>\n",
       "      <td></td>\n",
       "      <td>0.000285046</td>\n",
       "      <td></td>\n",
       "      <td></td>\n",
       "      <td>0.00184891</td>\n",
       "    </tr>\n",
       "    <tr>\n",
       "      <th>Mann-Whitney_U-test</th>\n",
       "      <td>0.9328</td>\n",
       "      <td>0.00103099</td>\n",
       "      <td>0.0415129</td>\n",
       "      <td>0.119551</td>\n",
       "      <td>0.00186644</td>\n",
       "    </tr>\n",
       "  </tbody>\n",
       "</table>\n",
       "</div>"
      ],
      "text/plain": [
       "                    3rd_ventricle      SN_area   SN_index       age  \\\n",
       "Student_T-test           0.763904               0.0384067  0.135524   \n",
       "Welsh_T-test                       0.000285046                        \n",
       "Mann-Whitney_U-test        0.9328   0.00103099  0.0415129  0.119551   \n",
       "\n",
       "                         gender  \n",
       "Student_T-test                   \n",
       "Welsh_T-test         0.00184891  \n",
       "Mann-Whitney_U-test  0.00186644  "
      ]
     },
     "execution_count": 32,
     "metadata": {},
     "output_type": "execute_result"
    }
   ],
   "source": [
    "test"
   ]
  },
  {
   "cell_type": "markdown",
   "metadata": {},
   "source": [
    "## Bonferoni correction "
   ]
  },
  {
   "cell_type": "code",
   "execution_count": 33,
   "metadata": {
    "collapsed": false
   },
   "outputs": [
    {
     "name": "stdout",
     "output_type": "stream",
     "text": [
      "p = 0.01\n"
     ]
    }
   ],
   "source": [
    "print \"p = {}\".format( 0.05/float(len(test.columns)) )"
   ]
  },
  {
   "cell_type": "markdown",
   "metadata": {},
   "source": [
    "# RBD split"
   ]
  },
  {
   "cell_type": "code",
   "execution_count": 34,
   "metadata": {
    "collapsed": false
   },
   "outputs": [],
   "source": [
    "rbd = df[df['PATIENT'] == 1]"
   ]
  },
  {
   "cell_type": "code",
   "execution_count": 35,
   "metadata": {
    "collapsed": false
   },
   "outputs": [],
   "source": [
    "rbd = rbd.drop(['PATIENT', 'SN_area', 'SN_index', '3rd_ventricle'], axis=1 )"
   ]
  },
  {
   "cell_type": "code",
   "execution_count": 36,
   "metadata": {
    "collapsed": false
   },
   "outputs": [
    {
     "data": {
      "text/html": [
       "<div>\n",
       "<table border=\"1\" class=\"dataframe\">\n",
       "  <thead>\n",
       "    <tr style=\"text-align: right;\">\n",
       "      <th></th>\n",
       "      <th>age</th>\n",
       "      <th>gender</th>\n",
       "    </tr>\n",
       "  </thead>\n",
       "  <tbody>\n",
       "    <tr>\n",
       "      <th>0</th>\n",
       "      <td>64</td>\n",
       "      <td>1</td>\n",
       "    </tr>\n",
       "    <tr>\n",
       "      <th>1</th>\n",
       "      <td>74</td>\n",
       "      <td>1</td>\n",
       "    </tr>\n",
       "    <tr>\n",
       "      <th>2</th>\n",
       "      <td>66</td>\n",
       "      <td>1</td>\n",
       "    </tr>\n",
       "    <tr>\n",
       "      <th>3</th>\n",
       "      <td>73</td>\n",
       "      <td>1</td>\n",
       "    </tr>\n",
       "    <tr>\n",
       "      <th>4</th>\n",
       "      <td>69</td>\n",
       "      <td>1</td>\n",
       "    </tr>\n",
       "    <tr>\n",
       "      <th>5</th>\n",
       "      <td>63</td>\n",
       "      <td>1</td>\n",
       "    </tr>\n",
       "    <tr>\n",
       "      <th>6</th>\n",
       "      <td>83</td>\n",
       "      <td>1</td>\n",
       "    </tr>\n",
       "    <tr>\n",
       "      <th>7</th>\n",
       "      <td>67</td>\n",
       "      <td>1</td>\n",
       "    </tr>\n",
       "    <tr>\n",
       "      <th>8</th>\n",
       "      <td>61</td>\n",
       "      <td>1</td>\n",
       "    </tr>\n",
       "    <tr>\n",
       "      <th>9</th>\n",
       "      <td>70</td>\n",
       "      <td>1</td>\n",
       "    </tr>\n",
       "    <tr>\n",
       "      <th>10</th>\n",
       "      <td>72</td>\n",
       "      <td>1</td>\n",
       "    </tr>\n",
       "    <tr>\n",
       "      <th>11</th>\n",
       "      <td>63</td>\n",
       "      <td>1</td>\n",
       "    </tr>\n",
       "    <tr>\n",
       "      <th>12</th>\n",
       "      <td>57</td>\n",
       "      <td>1</td>\n",
       "    </tr>\n",
       "    <tr>\n",
       "      <th>13</th>\n",
       "      <td>76</td>\n",
       "      <td>1</td>\n",
       "    </tr>\n",
       "    <tr>\n",
       "      <th>14</th>\n",
       "      <td>70</td>\n",
       "      <td>1</td>\n",
       "    </tr>\n",
       "    <tr>\n",
       "      <th>15</th>\n",
       "      <td>64</td>\n",
       "      <td>1</td>\n",
       "    </tr>\n",
       "    <tr>\n",
       "      <th>16</th>\n",
       "      <td>59</td>\n",
       "      <td>1</td>\n",
       "    </tr>\n",
       "    <tr>\n",
       "      <th>17</th>\n",
       "      <td>46</td>\n",
       "      <td>1</td>\n",
       "    </tr>\n",
       "    <tr>\n",
       "      <th>18</th>\n",
       "      <td>66</td>\n",
       "      <td>1</td>\n",
       "    </tr>\n",
       "    <tr>\n",
       "      <th>19</th>\n",
       "      <td>77</td>\n",
       "      <td>1</td>\n",
       "    </tr>\n",
       "    <tr>\n",
       "      <th>20</th>\n",
       "      <td>56</td>\n",
       "      <td>1</td>\n",
       "    </tr>\n",
       "    <tr>\n",
       "      <th>21</th>\n",
       "      <td>52</td>\n",
       "      <td>1</td>\n",
       "    </tr>\n",
       "    <tr>\n",
       "      <th>22</th>\n",
       "      <td>65</td>\n",
       "      <td>1</td>\n",
       "    </tr>\n",
       "    <tr>\n",
       "      <th>23</th>\n",
       "      <td>70</td>\n",
       "      <td>0</td>\n",
       "    </tr>\n",
       "    <tr>\n",
       "      <th>24</th>\n",
       "      <td>68</td>\n",
       "      <td>1</td>\n",
       "    </tr>\n",
       "    <tr>\n",
       "      <th>25</th>\n",
       "      <td>62</td>\n",
       "      <td>1</td>\n",
       "    </tr>\n",
       "    <tr>\n",
       "      <th>26</th>\n",
       "      <td>78</td>\n",
       "      <td>1</td>\n",
       "    </tr>\n",
       "    <tr>\n",
       "      <th>27</th>\n",
       "      <td>56</td>\n",
       "      <td>1</td>\n",
       "    </tr>\n",
       "    <tr>\n",
       "      <th>28</th>\n",
       "      <td>38</td>\n",
       "      <td>1</td>\n",
       "    </tr>\n",
       "    <tr>\n",
       "      <th>29</th>\n",
       "      <td>68</td>\n",
       "      <td>1</td>\n",
       "    </tr>\n",
       "    <tr>\n",
       "      <th>30</th>\n",
       "      <td>64</td>\n",
       "      <td>1</td>\n",
       "    </tr>\n",
       "    <tr>\n",
       "      <th>31</th>\n",
       "      <td>52</td>\n",
       "      <td>1</td>\n",
       "    </tr>\n",
       "    <tr>\n",
       "      <th>32</th>\n",
       "      <td>79</td>\n",
       "      <td>1</td>\n",
       "    </tr>\n",
       "    <tr>\n",
       "      <th>33</th>\n",
       "      <td>68</td>\n",
       "      <td>1</td>\n",
       "    </tr>\n",
       "    <tr>\n",
       "      <th>34</th>\n",
       "      <td>63</td>\n",
       "      <td>1</td>\n",
       "    </tr>\n",
       "    <tr>\n",
       "      <th>35</th>\n",
       "      <td>65</td>\n",
       "      <td>1</td>\n",
       "    </tr>\n",
       "    <tr>\n",
       "      <th>36</th>\n",
       "      <td>76</td>\n",
       "      <td>1</td>\n",
       "    </tr>\n",
       "    <tr>\n",
       "      <th>37</th>\n",
       "      <td>64</td>\n",
       "      <td>1</td>\n",
       "    </tr>\n",
       "    <tr>\n",
       "      <th>38</th>\n",
       "      <td>68</td>\n",
       "      <td>1</td>\n",
       "    </tr>\n",
       "    <tr>\n",
       "      <th>39</th>\n",
       "      <td>71</td>\n",
       "      <td>0</td>\n",
       "    </tr>\n",
       "    <tr>\n",
       "      <th>40</th>\n",
       "      <td>61</td>\n",
       "      <td>1</td>\n",
       "    </tr>\n",
       "    <tr>\n",
       "      <th>41</th>\n",
       "      <td>58</td>\n",
       "      <td>1</td>\n",
       "    </tr>\n",
       "    <tr>\n",
       "      <th>42</th>\n",
       "      <td>68</td>\n",
       "      <td>1</td>\n",
       "    </tr>\n",
       "    <tr>\n",
       "      <th>43</th>\n",
       "      <td>76</td>\n",
       "      <td>1</td>\n",
       "    </tr>\n",
       "    <tr>\n",
       "      <th>44</th>\n",
       "      <td>68</td>\n",
       "      <td>1</td>\n",
       "    </tr>\n",
       "    <tr>\n",
       "      <th>45</th>\n",
       "      <td>64</td>\n",
       "      <td>1</td>\n",
       "    </tr>\n",
       "    <tr>\n",
       "      <th>46</th>\n",
       "      <td>65</td>\n",
       "      <td>1</td>\n",
       "    </tr>\n",
       "    <tr>\n",
       "      <th>47</th>\n",
       "      <td>69</td>\n",
       "      <td>1</td>\n",
       "    </tr>\n",
       "    <tr>\n",
       "      <th>48</th>\n",
       "      <td>69</td>\n",
       "      <td>1</td>\n",
       "    </tr>\n",
       "  </tbody>\n",
       "</table>\n",
       "</div>"
      ],
      "text/plain": [
       "    age  gender\n",
       "0    64       1\n",
       "1    74       1\n",
       "2    66       1\n",
       "3    73       1\n",
       "4    69       1\n",
       "5    63       1\n",
       "6    83       1\n",
       "7    67       1\n",
       "8    61       1\n",
       "9    70       1\n",
       "10   72       1\n",
       "11   63       1\n",
       "12   57       1\n",
       "13   76       1\n",
       "14   70       1\n",
       "15   64       1\n",
       "16   59       1\n",
       "17   46       1\n",
       "18   66       1\n",
       "19   77       1\n",
       "20   56       1\n",
       "21   52       1\n",
       "22   65       1\n",
       "23   70       0\n",
       "24   68       1\n",
       "25   62       1\n",
       "26   78       1\n",
       "27   56       1\n",
       "28   38       1\n",
       "29   68       1\n",
       "30   64       1\n",
       "31   52       1\n",
       "32   79       1\n",
       "33   68       1\n",
       "34   63       1\n",
       "35   65       1\n",
       "36   76       1\n",
       "37   64       1\n",
       "38   68       1\n",
       "39   71       0\n",
       "40   61       1\n",
       "41   58       1\n",
       "42   68       1\n",
       "43   76       1\n",
       "44   68       1\n",
       "45   64       1\n",
       "46   65       1\n",
       "47   69       1\n",
       "48   69       1"
      ]
     },
     "execution_count": 36,
     "metadata": {},
     "output_type": "execute_result"
    }
   ],
   "source": [
    "rbd"
   ]
  },
  {
   "cell_type": "code",
   "execution_count": 37,
   "metadata": {
    "collapsed": false
   },
   "outputs": [
    {
     "data": {
      "text/plain": [
       "<seaborn.axisgrid.PairGrid at 0x7f7cc0c6d4d0>"
      ]
     },
     "execution_count": 37,
     "metadata": {},
     "output_type": "execute_result"
    },
    {
     "data": {
      "image/png": "[encoded data removed]",
      "text/plain": [
       "<matplotlib.figure.Figure at 0x7f7cc0c6d150>"
      ]
     },
     "metadata": {},
     "output_type": "display_data"
    }
   ],
   "source": [
    "sns.pairplot(rbd.dropna(how='any'), vars=rbd.columns, size=2)"
   ]
  }
 ],
 "metadata": {
  "kernelspec": {
   "display_name": "Python 2",
   "language": "python",
   "name": "python2"
  },
  "language_info": {
   "codemirror_mode": {
    "name": "ipython",
    "version": 2
   },
   "file_extension": ".py",
   "mimetype": "text/x-python",
   "name": "python",
   "nbconvert_exporter": "python",
   "pygments_lexer": "ipython2",
   "version": "2.7.12"
  }
 },
 "nbformat": 4,
 "nbformat_minor": 2
}
